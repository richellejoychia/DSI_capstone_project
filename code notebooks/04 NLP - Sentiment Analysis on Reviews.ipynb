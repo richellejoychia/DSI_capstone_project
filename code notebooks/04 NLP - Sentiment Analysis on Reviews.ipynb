{
 "cells": [
  {
   "cell_type": "markdown",
   "id": "8d1f5998-ce4f-4243-a22b-e22869eaa265",
   "metadata": {},
   "source": [
    "# Capstone Project: Travel Recommender System Based on Activity Preferences\n",
    "\n",
    "Done by: Richelle-Joy Chia, [Linkedin](https://www.linkedin.com/in/richelle-joy-chia/)"
   ]
  },
  {
   "cell_type": "markdown",
   "id": "9f67b164-98e4-469b-b35e-51ed26732ba7",
   "metadata": {},
   "source": [
    "# Part 4: Natural Language Processing (NLP)"
   ]
  },
  {
   "cell_type": "markdown",
   "id": "87e2b6c5-b207-45a0-90cb-662dc73ff790",
   "metadata": {},
   "source": [
    "The purpose of this NLP step is to conduct a sentiment analysis (Hugging Face) to retrieve the emotions for each review and add the labels as an information for users in Streamlit. As mentioned in my introduction, people these days are bombarded with tons of information and to have to go through all the individual reviews to come up with a conclusion of whether or not this activity may be worth trying. Therefore, I would like to simplify this process by allowing users to have a snapshot of what people generally feel.\n",
    "\n",
    "I used the jHHart model, which has been trained on 6 diverse datasets predicting Ekman's 6 basic emotions + a neutral class. This model aims to classify emotions from English text data. \n",
    "\n",
    "- https://huggingface.co/j-hartmann/emotion-english-roberta-large "
   ]
  },
  {
   "cell_type": "markdown",
   "id": "ca863816-5ac8-4ee9-816d-afdafd3bb594",
   "metadata": {},
   "source": [
    "## 4.1 Import relevant libraries and datasets"
   ]
  },
  {
   "cell_type": "code",
   "execution_count": 1,
   "id": "af72d4a1-19cd-4465-b00d-88be9f7ade02",
   "metadata": {},
   "outputs": [],
   "source": [
    "# import libraries \n",
    "\n",
    "import pandas as pd\n",
    "import numpy as np\n",
    "import re\n",
    "from sklearn.pipeline import Pipeline \n",
    "from transformers import pipeline\n",
    "from tqdm import tqdm"
   ]
  },
  {
   "cell_type": "code",
   "execution_count": 2,
   "id": "6f29ea8e-cd9c-4296-a900-e5b6f645350e",
   "metadata": {},
   "outputs": [],
   "source": [
    "nlp_dataset = pd.read_csv('./datasets/attractions_reviews_cleaned_merged.csv')\n",
    "final_data = pd.read_csv('./datasets/data_test.csv')"
   ]
  },
  {
   "cell_type": "markdown",
   "id": "7a2b0599-6040-49d4-886a-066888242413",
   "metadata": {},
   "source": [
    "## 4.2 Reviews EDA"
   ]
  },
  {
   "cell_type": "markdown",
   "id": "211756b5-8b71-484d-b8d3-f48e92d829e5",
   "metadata": {},
   "source": [
    "In this section, I explored the reviews column to look at the general descriptives of character and word length. "
   ]
  },
  {
   "cell_type": "code",
   "execution_count": 3,
   "id": "287b481f-7d6d-479e-aa5f-4053acbe8e1e",
   "metadata": {},
   "outputs": [
    {
     "data": {
      "text/html": [
       "<div>\n",
       "<style scoped>\n",
       "    .dataframe tbody tr th:only-of-type {\n",
       "        vertical-align: middle;\n",
       "    }\n",
       "\n",
       "    .dataframe tbody tr th {\n",
       "        vertical-align: top;\n",
       "    }\n",
       "\n",
       "    .dataframe thead th {\n",
       "        text-align: right;\n",
       "    }\n",
       "</style>\n",
       "<table border=\"1\" class=\"dataframe\">\n",
       "  <thead>\n",
       "    <tr style=\"text-align: right;\">\n",
       "      <th></th>\n",
       "      <th>rating_id</th>\n",
       "      <th>attraction_id</th>\n",
       "      <th>rating_x</th>\n",
       "      <th>review</th>\n",
       "      <th>review_date</th>\n",
       "      <th>user</th>\n",
       "      <th>name</th>\n",
       "      <th>country</th>\n",
       "      <th>province</th>\n",
       "      <th>city_name</th>\n",
       "      <th>...</th>\n",
       "      <th>sightseeing</th>\n",
       "      <th>transport</th>\n",
       "      <th>wildlife</th>\n",
       "      <th>duration</th>\n",
       "      <th>images</th>\n",
       "      <th>alcohol_places</th>\n",
       "      <th>outdoor activities</th>\n",
       "      <th>nature_combined</th>\n",
       "      <th>rating_new</th>\n",
       "      <th>weights</th>\n",
       "    </tr>\n",
       "  </thead>\n",
       "  <tbody>\n",
       "    <tr>\n",
       "      <th>0</th>\n",
       "      <td>0</td>\n",
       "      <td>0</td>\n",
       "      <td>5.0</td>\n",
       "      <td>Another 'Dave' Guides us Around Vancouver. Lan...</td>\n",
       "      <td>March 14, 2019</td>\n",
       "      <td>drew22perthaustralia</td>\n",
       "      <td>Vancouver City Sightseeing Tour</td>\n",
       "      <td>canada</td>\n",
       "      <td>British Columbia</td>\n",
       "      <td>Vancouver</td>\n",
       "      <td>...</td>\n",
       "      <td>1.0</td>\n",
       "      <td>0.0</td>\n",
       "      <td>0.0</td>\n",
       "      <td>3h 30m</td>\n",
       "      <td>https://media-cdn.tripadvisor.com/media/attrac...</td>\n",
       "      <td>0.0</td>\n",
       "      <td>0.0</td>\n",
       "      <td>0.0</td>\n",
       "      <td>5.0</td>\n",
       "      <td>1</td>\n",
       "    </tr>\n",
       "    <tr>\n",
       "      <th>1</th>\n",
       "      <td>1</td>\n",
       "      <td>0</td>\n",
       "      <td>5.0</td>\n",
       "      <td>Fantastic way to explore VC. An easy way to ex...</td>\n",
       "      <td>March 1, 2019</td>\n",
       "      <td>marc_h</td>\n",
       "      <td>Vancouver City Sightseeing Tour</td>\n",
       "      <td>canada</td>\n",
       "      <td>British Columbia</td>\n",
       "      <td>Vancouver</td>\n",
       "      <td>...</td>\n",
       "      <td>1.0</td>\n",
       "      <td>0.0</td>\n",
       "      <td>0.0</td>\n",
       "      <td>3h 30m</td>\n",
       "      <td>https://media-cdn.tripadvisor.com/media/attrac...</td>\n",
       "      <td>0.0</td>\n",
       "      <td>0.0</td>\n",
       "      <td>0.0</td>\n",
       "      <td>5.0</td>\n",
       "      <td>1</td>\n",
       "    </tr>\n",
       "    <tr>\n",
       "      <th>2</th>\n",
       "      <td>2</td>\n",
       "      <td>0</td>\n",
       "      <td>5.0</td>\n",
       "      <td>This was a great half day tour!. Was there for...</td>\n",
       "      <td>February 28, 2019</td>\n",
       "      <td>maggiehand</td>\n",
       "      <td>Vancouver City Sightseeing Tour</td>\n",
       "      <td>canada</td>\n",
       "      <td>British Columbia</td>\n",
       "      <td>Vancouver</td>\n",
       "      <td>...</td>\n",
       "      <td>1.0</td>\n",
       "      <td>0.0</td>\n",
       "      <td>0.0</td>\n",
       "      <td>3h 30m</td>\n",
       "      <td>https://media-cdn.tripadvisor.com/media/attrac...</td>\n",
       "      <td>0.0</td>\n",
       "      <td>0.0</td>\n",
       "      <td>0.0</td>\n",
       "      <td>5.0</td>\n",
       "      <td>1</td>\n",
       "    </tr>\n",
       "    <tr>\n",
       "      <th>3</th>\n",
       "      <td>3</td>\n",
       "      <td>0</td>\n",
       "      <td>5.0</td>\n",
       "      <td>All the main attractions. Scott was our lovely...</td>\n",
       "      <td>December 19, 2018</td>\n",
       "      <td>catherine255066</td>\n",
       "      <td>Vancouver City Sightseeing Tour</td>\n",
       "      <td>canada</td>\n",
       "      <td>British Columbia</td>\n",
       "      <td>Vancouver</td>\n",
       "      <td>...</td>\n",
       "      <td>1.0</td>\n",
       "      <td>0.0</td>\n",
       "      <td>0.0</td>\n",
       "      <td>3h 30m</td>\n",
       "      <td>https://media-cdn.tripadvisor.com/media/attrac...</td>\n",
       "      <td>0.0</td>\n",
       "      <td>0.0</td>\n",
       "      <td>0.0</td>\n",
       "      <td>5.0</td>\n",
       "      <td>1</td>\n",
       "    </tr>\n",
       "    <tr>\n",
       "      <th>4</th>\n",
       "      <td>4</td>\n",
       "      <td>0</td>\n",
       "      <td>5.0</td>\n",
       "      <td>Excellent Vancouver Sightseeing Tour. We would...</td>\n",
       "      <td>November 29, 2018</td>\n",
       "      <td>gearjamkw</td>\n",
       "      <td>Vancouver City Sightseeing Tour</td>\n",
       "      <td>canada</td>\n",
       "      <td>British Columbia</td>\n",
       "      <td>Vancouver</td>\n",
       "      <td>...</td>\n",
       "      <td>1.0</td>\n",
       "      <td>0.0</td>\n",
       "      <td>0.0</td>\n",
       "      <td>3h 30m</td>\n",
       "      <td>https://media-cdn.tripadvisor.com/media/attrac...</td>\n",
       "      <td>0.0</td>\n",
       "      <td>0.0</td>\n",
       "      <td>0.0</td>\n",
       "      <td>5.0</td>\n",
       "      <td>1</td>\n",
       "    </tr>\n",
       "  </tbody>\n",
       "</table>\n",
       "<p>5 rows × 35 columns</p>\n",
       "</div>"
      ],
      "text/plain": [
       "   rating_id  attraction_id  rating_x  \\\n",
       "0          0              0       5.0   \n",
       "1          1              0       5.0   \n",
       "2          2              0       5.0   \n",
       "3          3              0       5.0   \n",
       "4          4              0       5.0   \n",
       "\n",
       "                                              review        review_date  \\\n",
       "0  Another 'Dave' Guides us Around Vancouver. Lan...     March 14, 2019   \n",
       "1  Fantastic way to explore VC. An easy way to ex...      March 1, 2019   \n",
       "2  This was a great half day tour!. Was there for...  February 28, 2019   \n",
       "3  All the main attractions. Scott was our lovely...  December 19, 2018   \n",
       "4  Excellent Vancouver Sightseeing Tour. We would...  November 29, 2018   \n",
       "\n",
       "                   user                             name country  \\\n",
       "0  drew22perthaustralia  Vancouver City Sightseeing Tour  canada   \n",
       "1                marc_h  Vancouver City Sightseeing Tour  canada   \n",
       "2            maggiehand  Vancouver City Sightseeing Tour  canada   \n",
       "3       catherine255066  Vancouver City Sightseeing Tour  canada   \n",
       "4             gearjamkw  Vancouver City Sightseeing Tour  canada   \n",
       "\n",
       "           province  city_name  ...  sightseeing  transport wildlife  \\\n",
       "0  British Columbia  Vancouver  ...          1.0        0.0      0.0   \n",
       "1  British Columbia  Vancouver  ...          1.0        0.0      0.0   \n",
       "2  British Columbia  Vancouver  ...          1.0        0.0      0.0   \n",
       "3  British Columbia  Vancouver  ...          1.0        0.0      0.0   \n",
       "4  British Columbia  Vancouver  ...          1.0        0.0      0.0   \n",
       "\n",
       "   duration                                             images  \\\n",
       "0    3h 30m  https://media-cdn.tripadvisor.com/media/attrac...   \n",
       "1    3h 30m  https://media-cdn.tripadvisor.com/media/attrac...   \n",
       "2    3h 30m  https://media-cdn.tripadvisor.com/media/attrac...   \n",
       "3    3h 30m  https://media-cdn.tripadvisor.com/media/attrac...   \n",
       "4    3h 30m  https://media-cdn.tripadvisor.com/media/attrac...   \n",
       "\n",
       "   alcohol_places  outdoor activities  nature_combined  rating_new  weights  \n",
       "0             0.0                 0.0              0.0         5.0        1  \n",
       "1             0.0                 0.0              0.0         5.0        1  \n",
       "2             0.0                 0.0              0.0         5.0        1  \n",
       "3             0.0                 0.0              0.0         5.0        1  \n",
       "4             0.0                 0.0              0.0         5.0        1  \n",
       "\n",
       "[5 rows x 35 columns]"
      ]
     },
     "execution_count": 3,
     "metadata": {},
     "output_type": "execute_result"
    }
   ],
   "source": [
    "# preview data\n",
    "nlp_dataset.head()"
   ]
  },
  {
   "cell_type": "code",
   "execution_count": 4,
   "id": "0bd143b7-4419-4983-b87b-da6324910841",
   "metadata": {},
   "outputs": [
    {
     "data": {
      "text/plain": [
       "\"It was worth taking and very interesting.. I really enjoyed this tour, and I would recommend it to family and friends. You get to see alot of places and things when on the tour. it's very enjoyable.\""
      ]
     },
     "execution_count": 4,
     "metadata": {},
     "output_type": "execute_result"
    }
   ],
   "source": [
    "# look at a sample review\n",
    "nlp_dataset.iloc[6].review"
   ]
  },
  {
   "cell_type": "code",
   "execution_count": 5,
   "id": "73a4a8ff-a886-4c0f-86ec-e8487aff0e52",
   "metadata": {},
   "outputs": [],
   "source": [
    "# convert review column to string\n",
    "nlp_dataset['review'] = nlp_dataset['review'].astype(str)"
   ]
  },
  {
   "cell_type": "markdown",
   "id": "7a49e310-78a1-4e06-aa45-4e7c9d6d3f89",
   "metadata": {},
   "source": [
    "Here, I would like to explore the character and word count of reviews"
   ]
  },
  {
   "cell_type": "code",
   "execution_count": 6,
   "id": "32bf8aa5-2178-43d3-a182-e1b5fad4b280",
   "metadata": {},
   "outputs": [],
   "source": [
    "# creating new column for character count\n",
    "nlp_dataset['char_count'] = nlp_dataset['review'].map(len)"
   ]
  },
  {
   "cell_type": "code",
   "execution_count": 7,
   "id": "34637b35-33ee-4009-8e6e-63f53b63c8a0",
   "metadata": {},
   "outputs": [],
   "source": [
    "# creating new column for word count\n",
    "nlp_dataset['word_count'] = nlp_dataset['review'].map(lambda x: len(x.split()))"
   ]
  },
  {
   "cell_type": "code",
   "execution_count": 8,
   "id": "e122cc02-dfcd-4da8-b021-0b0f18663eea",
   "metadata": {},
   "outputs": [
    {
     "data": {
      "text/plain": [
       "count    14511.000000\n",
       "mean       243.015437\n",
       "std         74.696637\n",
       "min          3.000000\n",
       "25%        237.000000\n",
       "50%        264.000000\n",
       "75%        284.000000\n",
       "max        419.000000\n",
       "Name: char_count, dtype: float64"
      ]
     },
     "execution_count": 8,
     "metadata": {},
     "output_type": "execute_result"
    }
   ],
   "source": [
    "# descriptives of character count\n",
    "nlp_dataset['char_count'].describe()"
   ]
  },
  {
   "cell_type": "code",
   "execution_count": 9,
   "id": "da378dd3-61be-477f-8cb0-b4d949231480",
   "metadata": {},
   "outputs": [
    {
     "data": {
      "text/plain": [
       "count    14511.000000\n",
       "mean        43.693612\n",
       "std         13.215418\n",
       "min          1.000000\n",
       "25%         45.000000\n",
       "50%         48.000000\n",
       "75%         50.000000\n",
       "max         68.000000\n",
       "Name: word_count, dtype: float64"
      ]
     },
     "execution_count": 9,
     "metadata": {},
     "output_type": "execute_result"
    }
   ],
   "source": [
    "# descriptives of word count\n",
    "nlp_dataset['word_count'].describe()"
   ]
  },
  {
   "cell_type": "markdown",
   "id": "3d056256-2438-48df-b8d5-f80813169870",
   "metadata": {},
   "source": [
    "## 4.3 Using RegEx to remove symbols"
   ]
  },
  {
   "cell_type": "markdown",
   "id": "a2d3984b-5947-461d-bb7b-6360354c46ac",
   "metadata": {},
   "source": [
    "Thereafter, I used RegEx to remove symbols to process the data before putting it through HuggingFace."
   ]
  },
  {
   "cell_type": "code",
   "execution_count": 10,
   "id": "d17cb383-cf2e-4af6-bfec-9d4a93ea0df3",
   "metadata": {},
   "outputs": [],
   "source": [
    "# reformat using regex\n",
    "\n",
    "def split_it(text):\n",
    "    x = re.findall(\"[a-zA-Z]+\", str(text))\n",
    "    return(' '.join(x))\n",
    "\n",
    "nlp_dataset['review_new'] = nlp_dataset['review'].apply(split_it)"
   ]
  },
  {
   "cell_type": "code",
   "execution_count": 11,
   "id": "cf4231be-a8cc-45cd-accf-f0ba51093886",
   "metadata": {},
   "outputs": [
    {
     "data": {
      "text/plain": [
       "0        Another Dave Guides us Around Vancouver Landse...\n",
       "1        Fantastic way to explore VC An easy way to exp...\n",
       "2        This was a great half day tour Was there for b...\n",
       "3        All the main attractions Scott was our lovely ...\n",
       "4        Excellent Vancouver Sightseeing Tour We would ...\n",
       "                               ...                        \n",
       "14506                                                  nan\n",
       "14507                                                  nan\n",
       "14508                                                  nan\n",
       "14509                                                  nan\n",
       "14510                                                  nan\n",
       "Name: review_new, Length: 14511, dtype: object"
      ]
     },
     "execution_count": 11,
     "metadata": {},
     "output_type": "execute_result"
    }
   ],
   "source": [
    "nlp_dataset['review_new']"
   ]
  },
  {
   "cell_type": "markdown",
   "id": "99a1cf7e-8f6a-48c9-b315-7bc0152dea7d",
   "metadata": {},
   "source": [
    "Over here, I checked to see if the reviews have been accurately processed, and it seems to be working as intended."
   ]
  },
  {
   "cell_type": "code",
   "execution_count": 12,
   "id": "b573f22b-42f8-48a8-844e-5a2b53803731",
   "metadata": {},
   "outputs": [
    {
     "data": {
      "text/plain": [
       "'Awesome tour!. Yesterday our tour guide, Ed, showed us the sights of Vancouver from Coal Harbor to Stanley Park, Granville Island, Chinatown, Gas Town and the 360 degree views from the Vancouver Lookout. It was a rainy day but our group of 6 friends since high school...'"
      ]
     },
     "execution_count": 12,
     "metadata": {},
     "output_type": "execute_result"
    }
   ],
   "source": [
    "# explore review before RegEx\n",
    "nlp_dataset.iloc[20].review"
   ]
  },
  {
   "cell_type": "code",
   "execution_count": 13,
   "id": "d0d9386f-54e4-4bd4-8588-735b92b5640b",
   "metadata": {},
   "outputs": [
    {
     "data": {
      "text/plain": [
       "'Awesome tour Yesterday our tour guide Ed showed us the sights of Vancouver from Coal Harbor to Stanley Park Granville Island Chinatown Gas Town and the degree views from the Vancouver Lookout It was a rainy day but our group of friends since high school'"
      ]
     },
     "execution_count": 13,
     "metadata": {},
     "output_type": "execute_result"
    }
   ],
   "source": [
    "# explore review after RegEx\n",
    "nlp_dataset.iloc[20].review_new"
   ]
  },
  {
   "cell_type": "markdown",
   "id": "5fa2f543-69bd-4bd3-9624-c511b7914c87",
   "metadata": {},
   "source": [
    "## 4.4 Hugging Face for sentiment analysis (jHart)"
   ]
  },
  {
   "cell_type": "code",
   "execution_count": 19,
   "id": "ecb0b574-5aba-4679-be6e-a7983b89767e",
   "metadata": {},
   "outputs": [
    {
     "name": "stderr",
     "output_type": "stream",
     "text": [
      "All model checkpoint layers were used when initializing TFRobertaForSequenceClassification.\n",
      "\n",
      "All the layers of TFRobertaForSequenceClassification were initialized from the model checkpoint at j-hartmann/emotion-english-distilroberta-base.\n",
      "If your task is similar to the task the model of the checkpoint was trained on, you can already use TFRobertaForSequenceClassification for predictions without further training.\n"
     ]
    },
    {
     "data": {
      "text/plain": [
       "[{'label': 'joy', 'score': 0.9614477157592773}]"
      ]
     },
     "execution_count": 19,
     "metadata": {},
     "output_type": "execute_result"
    }
   ],
   "source": [
    "# run pipeline to activate model 1 and test with a random sentence to see if it works\n",
    "\n",
    "classifier = pipeline(\"text-classification\", model=\"j-hartmann/emotion-english-distilroberta-base\", truncation=True)\n",
    "classifier(\"I love my life\")"
   ]
  },
  {
   "cell_type": "code",
   "execution_count": 20,
   "id": "cefc5e4a-ae6d-4163-bc9d-955f59c88391",
   "metadata": {},
   "outputs": [],
   "source": [
    "# custom function to store the respective scores (in this scenario, scores refer to the probability of the emotion occuring, which will be used as the metric) \n",
    "\n",
    "def classify(df):\n",
    "    labels=[]\n",
    "    scores=[]\n",
    "    for i in tqdm(df['review'], desc = 'tqdm() Progress Bar'): \n",
    "        index = 0\n",
    "        if index < len(df):\n",
    "            output = classifier([i])\n",
    "            labels.append(output[0]['label'])\n",
    "            scores.append(output[0]['score'])\n",
    "            index += 1\n",
    "    df['labels_jhart'] = pd.DataFrame(labels)\n",
    "    df['scores_jhart'] = pd.DataFrame(scores)\n",
    "    return"
   ]
  },
  {
   "cell_type": "code",
   "execution_count": 21,
   "id": "9131b0cb-3485-48ab-b56b-f48dfa4705be",
   "metadata": {},
   "outputs": [
    {
     "name": "stderr",
     "output_type": "stream",
     "text": [
      "tqdm() Progress Bar: 100%|██████████| 14566/14566 [28:48<00:00,  8.43it/s]"
     ]
    },
    {
     "name": "stdout",
     "output_type": "stream",
     "text": [
      "CPU times: total: 49min 32s\n",
      "Wall time: 28min 48s\n"
     ]
    },
    {
     "name": "stderr",
     "output_type": "stream",
     "text": [
      "\n"
     ]
    }
   ],
   "source": [
    "%%time\n",
    "classify(no_att_reviews_merged_nlp)"
   ]
  },
  {
   "cell_type": "code",
   "execution_count": 117,
   "id": "371d13f3-aeab-4caf-b6b1-bba3408cd5b8",
   "metadata": {},
   "outputs": [],
   "source": [
    "# store df as csv\n",
    "nlp_dataset.to_csv('nlp_dataset.csv', index=False)"
   ]
  },
  {
   "cell_type": "code",
   "execution_count": 14,
   "id": "8720df92-33ec-433e-8297-395e8b393068",
   "metadata": {},
   "outputs": [],
   "source": [
    "nlp_dataset = pd.read_csv('./datasets/nlp_dataset.csv')"
   ]
  },
  {
   "cell_type": "markdown",
   "id": "ec2ba511-c962-4919-8930-cb7185d289e2",
   "metadata": {},
   "source": [
    "#### Explore the labels created by the Hugging Face model"
   ]
  },
  {
   "cell_type": "markdown",
   "id": "50ff4e33-b329-473d-8cf4-c50f06bd786b",
   "metadata": {},
   "source": [
    "In this section, I explored the count of each label and examined the distribution of the labels. "
   ]
  },
  {
   "cell_type": "code",
   "execution_count": 15,
   "id": "508e0600-4dde-4c43-9f2b-0dd606593d38",
   "metadata": {},
   "outputs": [
    {
     "data": {
      "text/plain": [
       "labels_jhart\n",
       "anger       0.662026\n",
       "disgust     0.655375\n",
       "fear        0.759702\n",
       "joy         0.827723\n",
       "neutral     0.626314\n",
       "sadness     0.641412\n",
       "surprise    0.676826\n",
       "Name: scores_jhart, dtype: float64"
      ]
     },
     "execution_count": 15,
     "metadata": {},
     "output_type": "execute_result"
    }
   ],
   "source": [
    "# look at the mean of the labels \n",
    "nlp_dataset.groupby('labels_jhart')['scores_jhart'].mean()"
   ]
  },
  {
   "cell_type": "code",
   "execution_count": 16,
   "id": "9d1c255f-753c-4102-93d8-e94f63ad2f0e",
   "metadata": {},
   "outputs": [],
   "source": [
    "# creating dummies to separate out the columns\n",
    "nlp_dataset = pd.get_dummies(data=nlp_dataset, columns=['labels_jhart'])"
   ]
  },
  {
   "cell_type": "code",
   "execution_count": 17,
   "id": "62e8b979-c58a-4bdb-b6fd-52ad1fa91532",
   "metadata": {},
   "outputs": [
    {
     "data": {
      "text/html": [
       "<div>\n",
       "<style scoped>\n",
       "    .dataframe tbody tr th:only-of-type {\n",
       "        vertical-align: middle;\n",
       "    }\n",
       "\n",
       "    .dataframe tbody tr th {\n",
       "        vertical-align: top;\n",
       "    }\n",
       "\n",
       "    .dataframe thead th {\n",
       "        text-align: right;\n",
       "    }\n",
       "</style>\n",
       "<table border=\"1\" class=\"dataframe\">\n",
       "  <thead>\n",
       "    <tr style=\"text-align: right;\">\n",
       "      <th></th>\n",
       "      <th>attraction_id</th>\n",
       "      <th>rating_x</th>\n",
       "      <th>review</th>\n",
       "      <th>review_date</th>\n",
       "      <th>user</th>\n",
       "      <th>name</th>\n",
       "      <th>country</th>\n",
       "      <th>province</th>\n",
       "      <th>city</th>\n",
       "      <th>location__lat</th>\n",
       "      <th>...</th>\n",
       "      <th>word_count</th>\n",
       "      <th>review_new</th>\n",
       "      <th>scores_jhart</th>\n",
       "      <th>labels_jhart_anger</th>\n",
       "      <th>labels_jhart_disgust</th>\n",
       "      <th>labels_jhart_fear</th>\n",
       "      <th>labels_jhart_joy</th>\n",
       "      <th>labels_jhart_neutral</th>\n",
       "      <th>labels_jhart_sadness</th>\n",
       "      <th>labels_jhart_surprise</th>\n",
       "    </tr>\n",
       "  </thead>\n",
       "  <tbody>\n",
       "    <tr>\n",
       "      <th>0</th>\n",
       "      <td>0</td>\n",
       "      <td>5.0</td>\n",
       "      <td>Another 'Dave' Guides us Around Vancouver. Lan...</td>\n",
       "      <td>March 14, 2019</td>\n",
       "      <td>drew22perthaustralia</td>\n",
       "      <td>Vancouver City Sightseeing Tour</td>\n",
       "      <td>canada</td>\n",
       "      <td>british_columbia</td>\n",
       "      <td>vancouver</td>\n",
       "      <td>49.197832</td>\n",
       "      <td>...</td>\n",
       "      <td>51</td>\n",
       "      <td>Another Dave Guides us Around Vancouver Landse...</td>\n",
       "      <td>0.976757</td>\n",
       "      <td>0</td>\n",
       "      <td>0</td>\n",
       "      <td>1</td>\n",
       "      <td>0</td>\n",
       "      <td>0</td>\n",
       "      <td>0</td>\n",
       "      <td>0</td>\n",
       "    </tr>\n",
       "    <tr>\n",
       "      <th>1</th>\n",
       "      <td>0</td>\n",
       "      <td>5.0</td>\n",
       "      <td>Fantastic way to explore VC. An easy way to ex...</td>\n",
       "      <td>March 1, 2019</td>\n",
       "      <td>marc_h</td>\n",
       "      <td>Vancouver City Sightseeing Tour</td>\n",
       "      <td>canada</td>\n",
       "      <td>british_columbia</td>\n",
       "      <td>vancouver</td>\n",
       "      <td>49.197832</td>\n",
       "      <td>...</td>\n",
       "      <td>50</td>\n",
       "      <td>Fantastic way to explore VC An easy way to exp...</td>\n",
       "      <td>0.972611</td>\n",
       "      <td>0</td>\n",
       "      <td>0</td>\n",
       "      <td>0</td>\n",
       "      <td>1</td>\n",
       "      <td>0</td>\n",
       "      <td>0</td>\n",
       "      <td>0</td>\n",
       "    </tr>\n",
       "    <tr>\n",
       "      <th>2</th>\n",
       "      <td>0</td>\n",
       "      <td>5.0</td>\n",
       "      <td>This was a great half day tour!. Was there for...</td>\n",
       "      <td>February 28, 2019</td>\n",
       "      <td>maggiehand</td>\n",
       "      <td>Vancouver City Sightseeing Tour</td>\n",
       "      <td>canada</td>\n",
       "      <td>british_columbia</td>\n",
       "      <td>vancouver</td>\n",
       "      <td>49.197832</td>\n",
       "      <td>...</td>\n",
       "      <td>52</td>\n",
       "      <td>This was a great half day tour Was there for b...</td>\n",
       "      <td>0.891894</td>\n",
       "      <td>0</td>\n",
       "      <td>0</td>\n",
       "      <td>0</td>\n",
       "      <td>1</td>\n",
       "      <td>0</td>\n",
       "      <td>0</td>\n",
       "      <td>0</td>\n",
       "    </tr>\n",
       "    <tr>\n",
       "      <th>3</th>\n",
       "      <td>0</td>\n",
       "      <td>5.0</td>\n",
       "      <td>All the main attractions. Scott was our lovely...</td>\n",
       "      <td>December 19, 2018</td>\n",
       "      <td>catherine255066</td>\n",
       "      <td>Vancouver City Sightseeing Tour</td>\n",
       "      <td>canada</td>\n",
       "      <td>british_columbia</td>\n",
       "      <td>vancouver</td>\n",
       "      <td>49.197832</td>\n",
       "      <td>...</td>\n",
       "      <td>49</td>\n",
       "      <td>All the main attractions Scott was our lovely ...</td>\n",
       "      <td>0.940322</td>\n",
       "      <td>0</td>\n",
       "      <td>0</td>\n",
       "      <td>0</td>\n",
       "      <td>1</td>\n",
       "      <td>0</td>\n",
       "      <td>0</td>\n",
       "      <td>0</td>\n",
       "    </tr>\n",
       "    <tr>\n",
       "      <th>4</th>\n",
       "      <td>0</td>\n",
       "      <td>5.0</td>\n",
       "      <td>Excellent Vancouver Sightseeing Tour. We would...</td>\n",
       "      <td>November 29, 2018</td>\n",
       "      <td>gearjamkw</td>\n",
       "      <td>Vancouver City Sightseeing Tour</td>\n",
       "      <td>canada</td>\n",
       "      <td>british_columbia</td>\n",
       "      <td>vancouver</td>\n",
       "      <td>49.197832</td>\n",
       "      <td>...</td>\n",
       "      <td>49</td>\n",
       "      <td>Excellent Vancouver Sightseeing Tour We would ...</td>\n",
       "      <td>0.800723</td>\n",
       "      <td>0</td>\n",
       "      <td>0</td>\n",
       "      <td>0</td>\n",
       "      <td>0</td>\n",
       "      <td>1</td>\n",
       "      <td>0</td>\n",
       "      <td>0</td>\n",
       "    </tr>\n",
       "  </tbody>\n",
       "</table>\n",
       "<p>5 rows × 56 columns</p>\n",
       "</div>"
      ],
      "text/plain": [
       "   attraction_id  rating_x                                             review  \\\n",
       "0              0       5.0  Another 'Dave' Guides us Around Vancouver. Lan...   \n",
       "1              0       5.0  Fantastic way to explore VC. An easy way to ex...   \n",
       "2              0       5.0  This was a great half day tour!. Was there for...   \n",
       "3              0       5.0  All the main attractions. Scott was our lovely...   \n",
       "4              0       5.0  Excellent Vancouver Sightseeing Tour. We would...   \n",
       "\n",
       "         review_date                  user                             name  \\\n",
       "0     March 14, 2019  drew22perthaustralia  Vancouver City Sightseeing Tour   \n",
       "1      March 1, 2019                marc_h  Vancouver City Sightseeing Tour   \n",
       "2  February 28, 2019            maggiehand  Vancouver City Sightseeing Tour   \n",
       "3  December 19, 2018       catherine255066  Vancouver City Sightseeing Tour   \n",
       "4  November 29, 2018             gearjamkw  Vancouver City Sightseeing Tour   \n",
       "\n",
       "  country          province       city  location__lat  ...  word_count  \\\n",
       "0  canada  british_columbia  vancouver      49.197832  ...          51   \n",
       "1  canada  british_columbia  vancouver      49.197832  ...          50   \n",
       "2  canada  british_columbia  vancouver      49.197832  ...          52   \n",
       "3  canada  british_columbia  vancouver      49.197832  ...          49   \n",
       "4  canada  british_columbia  vancouver      49.197832  ...          49   \n",
       "\n",
       "                                          review_new  scores_jhart  \\\n",
       "0  Another Dave Guides us Around Vancouver Landse...      0.976757   \n",
       "1  Fantastic way to explore VC An easy way to exp...      0.972611   \n",
       "2  This was a great half day tour Was there for b...      0.891894   \n",
       "3  All the main attractions Scott was our lovely ...      0.940322   \n",
       "4  Excellent Vancouver Sightseeing Tour We would ...      0.800723   \n",
       "\n",
       "  labels_jhart_anger labels_jhart_disgust  labels_jhart_fear  \\\n",
       "0                  0                    0                  1   \n",
       "1                  0                    0                  0   \n",
       "2                  0                    0                  0   \n",
       "3                  0                    0                  0   \n",
       "4                  0                    0                  0   \n",
       "\n",
       "   labels_jhart_joy  labels_jhart_neutral  labels_jhart_sadness  \\\n",
       "0                 0                     0                     0   \n",
       "1                 1                     0                     0   \n",
       "2                 1                     0                     0   \n",
       "3                 1                     0                     0   \n",
       "4                 0                     1                     0   \n",
       "\n",
       "   labels_jhart_surprise  \n",
       "0                      0  \n",
       "1                      0  \n",
       "2                      0  \n",
       "3                      0  \n",
       "4                      0  \n",
       "\n",
       "[5 rows x 56 columns]"
      ]
     },
     "execution_count": 17,
     "metadata": {},
     "output_type": "execute_result"
    }
   ],
   "source": [
    "# preview data\n",
    "nlp_dataset.head()"
   ]
  },
  {
   "cell_type": "markdown",
   "id": "5ce78ec9-8de9-41f1-9961-c17b2fad4879",
   "metadata": {},
   "source": [
    "As the dataset used in Hugging Face included individual reviews, I will be grouping the results by attraction ID before merging it to the main dataset that only shows 1 attraction id. "
   ]
  },
  {
   "cell_type": "code",
   "execution_count": 18,
   "id": "34b40959-8780-4461-a3ae-0cfebf4dc1c1",
   "metadata": {},
   "outputs": [],
   "source": [
    "# creating a new df to store the groupby results\n",
    "nlp_merged = nlp_dataset.groupby(by=['attraction_id'])[['labels_jhart_anger', 'labels_jhart_disgust', 'labels_jhart_fear', 'labels_jhart_joy', 'labels_jhart_neutral', 'labels_jhart_sadness', 'labels_jhart_surprise']].sum()"
   ]
  },
  {
   "cell_type": "code",
   "execution_count": 19,
   "id": "94dbc851-11b7-4fdf-8773-2436eb66e5bd",
   "metadata": {},
   "outputs": [],
   "source": [
    "# reset index that has been messed up due to merge \n",
    "nlp_merged = pd.DataFrame(nlp_merged).reset_index()"
   ]
  },
  {
   "cell_type": "code",
   "execution_count": 20,
   "id": "d54f3051-4749-4837-8502-e0262f3fe96a",
   "metadata": {},
   "outputs": [
    {
     "data": {
      "text/html": [
       "<div>\n",
       "<style scoped>\n",
       "    .dataframe tbody tr th:only-of-type {\n",
       "        vertical-align: middle;\n",
       "    }\n",
       "\n",
       "    .dataframe tbody tr th {\n",
       "        vertical-align: top;\n",
       "    }\n",
       "\n",
       "    .dataframe thead th {\n",
       "        text-align: right;\n",
       "    }\n",
       "</style>\n",
       "<table border=\"1\" class=\"dataframe\">\n",
       "  <thead>\n",
       "    <tr style=\"text-align: right;\">\n",
       "      <th></th>\n",
       "      <th>attraction_id</th>\n",
       "      <th>labels_jhart_anger</th>\n",
       "      <th>labels_jhart_disgust</th>\n",
       "      <th>labels_jhart_fear</th>\n",
       "      <th>labels_jhart_joy</th>\n",
       "      <th>labels_jhart_neutral</th>\n",
       "      <th>labels_jhart_sadness</th>\n",
       "      <th>labels_jhart_surprise</th>\n",
       "    </tr>\n",
       "  </thead>\n",
       "  <tbody>\n",
       "    <tr>\n",
       "      <th>0</th>\n",
       "      <td>0</td>\n",
       "      <td>2</td>\n",
       "      <td>1</td>\n",
       "      <td>3</td>\n",
       "      <td>36</td>\n",
       "      <td>12</td>\n",
       "      <td>0</td>\n",
       "      <td>3</td>\n",
       "    </tr>\n",
       "    <tr>\n",
       "      <th>1</th>\n",
       "      <td>1</td>\n",
       "      <td>1</td>\n",
       "      <td>0</td>\n",
       "      <td>3</td>\n",
       "      <td>58</td>\n",
       "      <td>18</td>\n",
       "      <td>3</td>\n",
       "      <td>6</td>\n",
       "    </tr>\n",
       "    <tr>\n",
       "      <th>2</th>\n",
       "      <td>2</td>\n",
       "      <td>2</td>\n",
       "      <td>2</td>\n",
       "      <td>2</td>\n",
       "      <td>43</td>\n",
       "      <td>13</td>\n",
       "      <td>3</td>\n",
       "      <td>2</td>\n",
       "    </tr>\n",
       "    <tr>\n",
       "      <th>3</th>\n",
       "      <td>3</td>\n",
       "      <td>1</td>\n",
       "      <td>1</td>\n",
       "      <td>0</td>\n",
       "      <td>18</td>\n",
       "      <td>4</td>\n",
       "      <td>2</td>\n",
       "      <td>1</td>\n",
       "    </tr>\n",
       "    <tr>\n",
       "      <th>4</th>\n",
       "      <td>4</td>\n",
       "      <td>2</td>\n",
       "      <td>0</td>\n",
       "      <td>3</td>\n",
       "      <td>75</td>\n",
       "      <td>16</td>\n",
       "      <td>1</td>\n",
       "      <td>14</td>\n",
       "    </tr>\n",
       "  </tbody>\n",
       "</table>\n",
       "</div>"
      ],
      "text/plain": [
       "   attraction_id  labels_jhart_anger  labels_jhart_disgust  labels_jhart_fear  \\\n",
       "0              0                   2                     1                  3   \n",
       "1              1                   1                     0                  3   \n",
       "2              2                   2                     2                  2   \n",
       "3              3                   1                     1                  0   \n",
       "4              4                   2                     0                  3   \n",
       "\n",
       "   labels_jhart_joy  labels_jhart_neutral  labels_jhart_sadness  \\\n",
       "0                36                    12                     0   \n",
       "1                58                    18                     3   \n",
       "2                43                    13                     3   \n",
       "3                18                     4                     2   \n",
       "4                75                    16                     1   \n",
       "\n",
       "   labels_jhart_surprise  \n",
       "0                      3  \n",
       "1                      6  \n",
       "2                      2  \n",
       "3                      1  \n",
       "4                     14  "
      ]
     },
     "execution_count": 20,
     "metadata": {},
     "output_type": "execute_result"
    }
   ],
   "source": [
    "# preview data\n",
    "nlp_merged.head()"
   ]
  },
  {
   "cell_type": "code",
   "execution_count": 21,
   "id": "db064a01-1e40-412a-9c6a-15ca9d59196d",
   "metadata": {},
   "outputs": [
    {
     "data": {
      "text/plain": [
       "Index(['attraction_id', 'labels_jhart_anger', 'labels_jhart_disgust',\n",
       "       'labels_jhart_fear', 'labels_jhart_joy', 'labels_jhart_neutral',\n",
       "       'labels_jhart_sadness', 'labels_jhart_surprise'],\n",
       "      dtype='object')"
      ]
     },
     "execution_count": 21,
     "metadata": {},
     "output_type": "execute_result"
    }
   ],
   "source": [
    "# displaying columns of nlp_merged df to see if the labels are accurate\n",
    "nlp_merged.columns"
   ]
  },
  {
   "cell_type": "markdown",
   "id": "e83b16e7-2558-401c-a4f1-a1a89fe26635",
   "metadata": {},
   "source": [
    "This portion aims to display the top emotion labels for each attraction id. "
   ]
  },
  {
   "cell_type": "code",
   "execution_count": 22,
   "id": "b19d0c17-5eb9-4fcb-8140-d87595888de4",
   "metadata": {},
   "outputs": [],
   "source": [
    "# created a copy to set attraction_id as index \n",
    "nlp_merged2 = nlp_merged.copy()"
   ]
  },
  {
   "cell_type": "code",
   "execution_count": 23,
   "id": "7f5ae052-26a0-4317-814e-93f9aba54bed",
   "metadata": {},
   "outputs": [],
   "source": [
    "nlp_merged2.set_index('attraction_id',inplace=True)"
   ]
  },
  {
   "cell_type": "code",
   "execution_count": 24,
   "id": "c8bbb90e-49f1-4ee3-978a-1e8382344fa3",
   "metadata": {},
   "outputs": [
    {
     "data": {
      "text/plain": [
       "attraction_id\n",
       "0           labels_jhart_joy\n",
       "1           labels_jhart_joy\n",
       "2           labels_jhart_joy\n",
       "3           labels_jhart_joy\n",
       "4           labels_jhart_joy\n",
       "                ...         \n",
       "3546        labels_jhart_joy\n",
       "3557        labels_jhart_joy\n",
       "3561    labels_jhart_neutral\n",
       "3609    labels_jhart_neutral\n",
       "3649    labels_jhart_neutral\n",
       "Length: 1760, dtype: object"
      ]
     },
     "execution_count": 24,
     "metadata": {},
     "output_type": "execute_result"
    }
   ],
   "source": [
    "# display top emotion labels \n",
    "nlp_merged2.idxmax(axis = 1)"
   ]
  },
  {
   "cell_type": "code",
   "execution_count": 25,
   "id": "f9d49ca3-e97d-4187-ac6c-e4eac690d995",
   "metadata": {},
   "outputs": [],
   "source": [
    "# reset index\n",
    "nlp_merged2 = nlp_merged2.idxmax(axis = 1).reset_index()"
   ]
  },
  {
   "cell_type": "code",
   "execution_count": 26,
   "id": "73886567-ec37-4546-b3ea-26730a63d498",
   "metadata": {},
   "outputs": [],
   "source": [
    "# rename column\n",
    "nlp_merged2.rename({0: 'most_frequent_label'}, axis=1, inplace=True)"
   ]
  },
  {
   "cell_type": "code",
   "execution_count": 27,
   "id": "00c6adce-83e2-4091-84db-c1742c082365",
   "metadata": {},
   "outputs": [
    {
     "data": {
      "text/html": [
       "<div>\n",
       "<style scoped>\n",
       "    .dataframe tbody tr th:only-of-type {\n",
       "        vertical-align: middle;\n",
       "    }\n",
       "\n",
       "    .dataframe tbody tr th {\n",
       "        vertical-align: top;\n",
       "    }\n",
       "\n",
       "    .dataframe thead th {\n",
       "        text-align: right;\n",
       "    }\n",
       "</style>\n",
       "<table border=\"1\" class=\"dataframe\">\n",
       "  <thead>\n",
       "    <tr style=\"text-align: right;\">\n",
       "      <th></th>\n",
       "      <th>attraction_id</th>\n",
       "      <th>most_frequent_label</th>\n",
       "    </tr>\n",
       "  </thead>\n",
       "  <tbody>\n",
       "    <tr>\n",
       "      <th>0</th>\n",
       "      <td>0</td>\n",
       "      <td>labels_jhart_joy</td>\n",
       "    </tr>\n",
       "    <tr>\n",
       "      <th>1</th>\n",
       "      <td>1</td>\n",
       "      <td>labels_jhart_joy</td>\n",
       "    </tr>\n",
       "    <tr>\n",
       "      <th>2</th>\n",
       "      <td>2</td>\n",
       "      <td>labels_jhart_joy</td>\n",
       "    </tr>\n",
       "    <tr>\n",
       "      <th>3</th>\n",
       "      <td>3</td>\n",
       "      <td>labels_jhart_joy</td>\n",
       "    </tr>\n",
       "    <tr>\n",
       "      <th>4</th>\n",
       "      <td>4</td>\n",
       "      <td>labels_jhart_joy</td>\n",
       "    </tr>\n",
       "    <tr>\n",
       "      <th>...</th>\n",
       "      <td>...</td>\n",
       "      <td>...</td>\n",
       "    </tr>\n",
       "    <tr>\n",
       "      <th>1755</th>\n",
       "      <td>3546</td>\n",
       "      <td>labels_jhart_joy</td>\n",
       "    </tr>\n",
       "    <tr>\n",
       "      <th>1756</th>\n",
       "      <td>3557</td>\n",
       "      <td>labels_jhart_joy</td>\n",
       "    </tr>\n",
       "    <tr>\n",
       "      <th>1757</th>\n",
       "      <td>3561</td>\n",
       "      <td>labels_jhart_neutral</td>\n",
       "    </tr>\n",
       "    <tr>\n",
       "      <th>1758</th>\n",
       "      <td>3609</td>\n",
       "      <td>labels_jhart_neutral</td>\n",
       "    </tr>\n",
       "    <tr>\n",
       "      <th>1759</th>\n",
       "      <td>3649</td>\n",
       "      <td>labels_jhart_neutral</td>\n",
       "    </tr>\n",
       "  </tbody>\n",
       "</table>\n",
       "<p>1760 rows × 2 columns</p>\n",
       "</div>"
      ],
      "text/plain": [
       "      attraction_id   most_frequent_label\n",
       "0                 0      labels_jhart_joy\n",
       "1                 1      labels_jhart_joy\n",
       "2                 2      labels_jhart_joy\n",
       "3                 3      labels_jhart_joy\n",
       "4                 4      labels_jhart_joy\n",
       "...             ...                   ...\n",
       "1755           3546      labels_jhart_joy\n",
       "1756           3557      labels_jhart_joy\n",
       "1757           3561  labels_jhart_neutral\n",
       "1758           3609  labels_jhart_neutral\n",
       "1759           3649  labels_jhart_neutral\n",
       "\n",
       "[1760 rows x 2 columns]"
      ]
     },
     "execution_count": 27,
     "metadata": {},
     "output_type": "execute_result"
    }
   ],
   "source": [
    "# preview data \n",
    "nlp_merged2"
   ]
  },
  {
   "cell_type": "markdown",
   "id": "0d450025-63df-4c02-b5f6-2a0bfb5c8881",
   "metadata": {},
   "source": [
    "After creating the new column (most_frequent_label), I will be merging this column back to the main df"
   ]
  },
  {
   "cell_type": "code",
   "execution_count": 28,
   "id": "405db15d-3ef8-47a3-ae62-52c3bd927b9c",
   "metadata": {},
   "outputs": [],
   "source": [
    "# merge most_frequent_label column w main df\n",
    "final_data = pd.merge(final_data,nlp_merged2[['attraction_id','most_frequent_label']],on='attraction_id', how='left')"
   ]
  },
  {
   "cell_type": "code",
   "execution_count": 29,
   "id": "2316b5c4-72bc-47cc-8bb7-38d59b43e127",
   "metadata": {},
   "outputs": [
    {
     "data": {
      "text/html": [
       "<div>\n",
       "<style scoped>\n",
       "    .dataframe tbody tr th:only-of-type {\n",
       "        vertical-align: middle;\n",
       "    }\n",
       "\n",
       "    .dataframe tbody tr th {\n",
       "        vertical-align: top;\n",
       "    }\n",
       "\n",
       "    .dataframe thead th {\n",
       "        text-align: right;\n",
       "    }\n",
       "</style>\n",
       "<table border=\"1\" class=\"dataframe\">\n",
       "  <thead>\n",
       "    <tr style=\"text-align: right;\">\n",
       "      <th></th>\n",
       "      <th>attraction_id</th>\n",
       "      <th>name</th>\n",
       "      <th>country</th>\n",
       "      <th>province</th>\n",
       "      <th>city_name</th>\n",
       "      <th>price</th>\n",
       "      <th>rating</th>\n",
       "      <th>attraction</th>\n",
       "      <th>accommodation</th>\n",
       "      <th>air tour</th>\n",
       "      <th>...</th>\n",
       "      <th>transport</th>\n",
       "      <th>wildlife</th>\n",
       "      <th>duration</th>\n",
       "      <th>images</th>\n",
       "      <th>alcohol_places</th>\n",
       "      <th>outdoor activities</th>\n",
       "      <th>nature_combined</th>\n",
       "      <th>weights</th>\n",
       "      <th>rating_scaled</th>\n",
       "      <th>most_frequent_label</th>\n",
       "    </tr>\n",
       "  </thead>\n",
       "  <tbody>\n",
       "    <tr>\n",
       "      <th>0</th>\n",
       "      <td>0</td>\n",
       "      <td>Vancouver City Sightseeing Tour</td>\n",
       "      <td>canada</td>\n",
       "      <td>British Columbia</td>\n",
       "      <td>Vancouver</td>\n",
       "      <td>80.0</td>\n",
       "      <td>4.5</td>\n",
       "      <td>https://tripadvisor.ca/AttractionProductDetail...</td>\n",
       "      <td>0</td>\n",
       "      <td>0</td>\n",
       "      <td>...</td>\n",
       "      <td>0</td>\n",
       "      <td>0</td>\n",
       "      <td>3h 30m</td>\n",
       "      <td>https://media-cdn.tripadvisor.com/media/attrac...</td>\n",
       "      <td>0</td>\n",
       "      <td>0</td>\n",
       "      <td>0</td>\n",
       "      <td>1.0</td>\n",
       "      <td>0.875</td>\n",
       "      <td>labels_jhart_joy</td>\n",
       "    </tr>\n",
       "    <tr>\n",
       "      <th>1</th>\n",
       "      <td>1</td>\n",
       "      <td>Vancouver To Victoria And Butchart Gardens Tou...</td>\n",
       "      <td>canada</td>\n",
       "      <td>British Columbia</td>\n",
       "      <td>Vancouver</td>\n",
       "      <td>210.0</td>\n",
       "      <td>5.0</td>\n",
       "      <td>https://tripadvisor.ca/AttractionProductDetail...</td>\n",
       "      <td>0</td>\n",
       "      <td>0</td>\n",
       "      <td>...</td>\n",
       "      <td>0</td>\n",
       "      <td>0</td>\n",
       "      <td>13h</td>\n",
       "      <td>https://media-cdn.tripadvisor.com/media/attrac...</td>\n",
       "      <td>0</td>\n",
       "      <td>0</td>\n",
       "      <td>1</td>\n",
       "      <td>1.0</td>\n",
       "      <td>1.000</td>\n",
       "      <td>labels_jhart_joy</td>\n",
       "    </tr>\n",
       "    <tr>\n",
       "      <th>2</th>\n",
       "      <td>2</td>\n",
       "      <td>Quebec City And Montmorency Falls Day Trip Fro...</td>\n",
       "      <td>canada</td>\n",
       "      <td>Quebec</td>\n",
       "      <td>Montreal</td>\n",
       "      <td>115.0</td>\n",
       "      <td>4.5</td>\n",
       "      <td>https://tripadvisor.ca/AttractionProductDetail...</td>\n",
       "      <td>0</td>\n",
       "      <td>0</td>\n",
       "      <td>...</td>\n",
       "      <td>0</td>\n",
       "      <td>0</td>\n",
       "      <td>12h</td>\n",
       "      <td>https://media-cdn.tripadvisor.com/media/attrac...</td>\n",
       "      <td>0</td>\n",
       "      <td>0</td>\n",
       "      <td>0</td>\n",
       "      <td>1.0</td>\n",
       "      <td>0.875</td>\n",
       "      <td>labels_jhart_joy</td>\n",
       "    </tr>\n",
       "    <tr>\n",
       "      <th>3</th>\n",
       "      <td>3</td>\n",
       "      <td>Niagara Falls Day Trip From Toronto</td>\n",
       "      <td>canada</td>\n",
       "      <td>Ontario</td>\n",
       "      <td>Toronto</td>\n",
       "      <td>169.0</td>\n",
       "      <td>5.0</td>\n",
       "      <td>https://tripadvisor.ca/AttractionProductDetail...</td>\n",
       "      <td>0</td>\n",
       "      <td>0</td>\n",
       "      <td>...</td>\n",
       "      <td>0</td>\n",
       "      <td>0</td>\n",
       "      <td>9h 30m</td>\n",
       "      <td>https://media-cdn.tripadvisor.com/media/attrac...</td>\n",
       "      <td>1</td>\n",
       "      <td>0</td>\n",
       "      <td>0</td>\n",
       "      <td>1.0</td>\n",
       "      <td>1.000</td>\n",
       "      <td>labels_jhart_joy</td>\n",
       "    </tr>\n",
       "    <tr>\n",
       "      <th>4</th>\n",
       "      <td>4</td>\n",
       "      <td>Best Of Niagara Falls Tour From Niagara Falls,...</td>\n",
       "      <td>canada</td>\n",
       "      <td>Ontario</td>\n",
       "      <td>Niagara Falls</td>\n",
       "      <td>158.0</td>\n",
       "      <td>5.0</td>\n",
       "      <td>https://tripadvisor.ca/AttractionProductDetail...</td>\n",
       "      <td>0</td>\n",
       "      <td>0</td>\n",
       "      <td>...</td>\n",
       "      <td>0</td>\n",
       "      <td>0</td>\n",
       "      <td>4–5 hours</td>\n",
       "      <td>https://media-cdn.tripadvisor.com/media/attrac...</td>\n",
       "      <td>0</td>\n",
       "      <td>0</td>\n",
       "      <td>0</td>\n",
       "      <td>1.0</td>\n",
       "      <td>1.000</td>\n",
       "      <td>labels_jhart_joy</td>\n",
       "    </tr>\n",
       "  </tbody>\n",
       "</table>\n",
       "<p>5 rows × 31 columns</p>\n",
       "</div>"
      ],
      "text/plain": [
       "   attraction_id                                               name country  \\\n",
       "0              0                    Vancouver City Sightseeing Tour  canada   \n",
       "1              1  Vancouver To Victoria And Butchart Gardens Tou...  canada   \n",
       "2              2  Quebec City And Montmorency Falls Day Trip Fro...  canada   \n",
       "3              3                Niagara Falls Day Trip From Toronto  canada   \n",
       "4              4  Best Of Niagara Falls Tour From Niagara Falls,...  canada   \n",
       "\n",
       "           province      city_name  price  rating  \\\n",
       "0  British Columbia      Vancouver   80.0     4.5   \n",
       "1  British Columbia      Vancouver  210.0     5.0   \n",
       "2            Quebec       Montreal  115.0     4.5   \n",
       "3           Ontario        Toronto  169.0     5.0   \n",
       "4           Ontario  Niagara Falls  158.0     5.0   \n",
       "\n",
       "                                          attraction  accommodation  air tour  \\\n",
       "0  https://tripadvisor.ca/AttractionProductDetail...              0         0   \n",
       "1  https://tripadvisor.ca/AttractionProductDetail...              0         0   \n",
       "2  https://tripadvisor.ca/AttractionProductDetail...              0         0   \n",
       "3  https://tripadvisor.ca/AttractionProductDetail...              0         0   \n",
       "4  https://tripadvisor.ca/AttractionProductDetail...              0         0   \n",
       "\n",
       "   ...  transport  wildlife   duration  \\\n",
       "0  ...          0         0     3h 30m   \n",
       "1  ...          0         0        13h   \n",
       "2  ...          0         0        12h   \n",
       "3  ...          0         0     9h 30m   \n",
       "4  ...          0         0  4–5 hours   \n",
       "\n",
       "                                              images  alcohol_places  \\\n",
       "0  https://media-cdn.tripadvisor.com/media/attrac...               0   \n",
       "1  https://media-cdn.tripadvisor.com/media/attrac...               0   \n",
       "2  https://media-cdn.tripadvisor.com/media/attrac...               0   \n",
       "3  https://media-cdn.tripadvisor.com/media/attrac...               1   \n",
       "4  https://media-cdn.tripadvisor.com/media/attrac...               0   \n",
       "\n",
       "   outdoor activities  nature_combined  weights  rating_scaled  \\\n",
       "0                   0                0      1.0          0.875   \n",
       "1                   0                1      1.0          1.000   \n",
       "2                   0                0      1.0          0.875   \n",
       "3                   0                0      1.0          1.000   \n",
       "4                   0                0      1.0          1.000   \n",
       "\n",
       "   most_frequent_label  \n",
       "0     labels_jhart_joy  \n",
       "1     labels_jhart_joy  \n",
       "2     labels_jhart_joy  \n",
       "3     labels_jhart_joy  \n",
       "4     labels_jhart_joy  \n",
       "\n",
       "[5 rows x 31 columns]"
      ]
     },
     "execution_count": 29,
     "metadata": {},
     "output_type": "execute_result"
    }
   ],
   "source": [
    "# check to see if data has been merged correctly\n",
    "final_data.head()"
   ]
  },
  {
   "cell_type": "markdown",
   "id": "80b981fa-2318-4ba3-873e-ca631b4ad524",
   "metadata": {},
   "source": [
    "Based on the descriptives below, the most common sentiments were neutral and joy. Given that the mean of the ratings is 4.67, it does seem plausible that the highest ratings were in general on the positive and neutarl side, more than the negative. "
   ]
  },
  {
   "cell_type": "code",
   "execution_count": 30,
   "id": "dce0e753-55bc-4785-b950-d092a7cc649e",
   "metadata": {},
   "outputs": [
    {
     "data": {
      "text/plain": [
       "labels_jhart_neutral     961\n",
       "labels_jhart_joy         692\n",
       "labels_jhart_surprise     17\n",
       "labels_jhart_fear         16\n",
       "labels_jhart_sadness      10\n",
       "labels_jhart_disgust       6\n",
       "labels_jhart_anger         3\n",
       "Name: most_frequent_label, dtype: int64"
      ]
     },
     "execution_count": 30,
     "metadata": {},
     "output_type": "execute_result"
    }
   ],
   "source": [
    "# looking at the counts of each label\n",
    "final_data['most_frequent_label'].value_counts()"
   ]
  },
  {
   "cell_type": "code",
   "execution_count": 34,
   "id": "3c7e557d-94c6-4e3a-9046-85b86ae09089",
   "metadata": {},
   "outputs": [
    {
     "data": {
      "text/plain": [
       "4.669396266275661"
      ]
     },
     "execution_count": 34,
     "metadata": {},
     "output_type": "execute_result"
    }
   ],
   "source": [
    "# display mean of ratings again\n",
    "final_data['rating'].mean()"
   ]
  },
  {
   "cell_type": "markdown",
   "id": "5317c10e-24bf-4c8b-adf8-f5d55fe3943b",
   "metadata": {},
   "source": [
    "The next 2 steps are important for display in streamlit - removing underline and capitalize text."
   ]
  },
  {
   "cell_type": "code",
   "execution_count": 31,
   "id": "53c7096f-cbf5-4c94-a59c-40897aa2bea4",
   "metadata": {},
   "outputs": [],
   "source": [
    "# remove symbols\n",
    "final_data['most_frequent_label'] = final_data['most_frequent_label'].str.replace('labels_jhart_neutral','neutral')\n",
    "final_data['most_frequent_label'] = final_data['most_frequent_label'].str.replace('labels_jhart_joy','joy')\n",
    "final_data['most_frequent_label'] = final_data['most_frequent_label'].str.replace('labels_jhart_surprise','surprise')\n",
    "final_data['most_frequent_label'] = final_data['most_frequent_label'].str.replace('labels_jhart_fear','fear')\n",
    "final_data['most_frequent_label'] = final_data['most_frequent_label'].str.replace('labels_jhart_sadness','sadness')\n",
    "final_data['most_frequent_label'] = final_data['most_frequent_label'].str.replace('labels_jhart_disgust','disgust')\n",
    "final_data['most_frequent_label'] = final_data['most_frequent_label'].str.replace('labels_jhart_anger','anger')\n"
   ]
  },
  {
   "cell_type": "code",
   "execution_count": 32,
   "id": "f498fc58-457a-4d61-a085-0a1ec48e4804",
   "metadata": {},
   "outputs": [],
   "source": [
    "# capitalize text\n",
    "final_data['most_frequent_label'] = final_data['most_frequent_label'].str.capitalize()"
   ]
  },
  {
   "cell_type": "code",
   "execution_count": 33,
   "id": "635555b2-d24b-40a0-99db-1bd8f739ca23",
   "metadata": {},
   "outputs": [],
   "source": [
    "# export data\n",
    "final_data.to_csv('./datasets/data_test.csv', index=False)"
   ]
  },
  {
   "cell_type": "markdown",
   "id": "5601b323-2c7c-4f17-9c12-dde9324abc0b",
   "metadata": {},
   "source": [
    "# Conclusion \n",
    "In summary, this project aims to lay the foundation for a bigger goal, that is, to kick start a travel recommender system based on activity preferences in order to make travel planning a more efficient task. In this project, I was able to use Cosine Similarity, User Acceptance Testing, and A/B testing to improve the model predictions by 20%. \n",
    "- In the base model, 60% of the recommended attractions were found to be in line with users and what they would do.\n",
    "- In the main model, 80% of the recommended attractions were what people would be likely to do as well. \n",
    "\n",
    "This recommender system was deployed in Streamlit - [Click here to try!](https://richellejoychia-streamlit-apps-streamlit-app-wtufwn.streamlit.app/)\n",
    " \n",
    "# Limitations and future work\n",
    "Even though the results of the recommender system were satisfactory, there are still some limitations to consider for future work.\n",
    "\n",
    "- The activities included were only in Canada and may not be as comprehensive. It would be interesting to scrap data from other countries and incorporate it into the recommender system such that users who like a particular attraction would be recommended attractions from other countries as well. \n",
    "- Only cosine similarity was used in building this recommender systemm. Future work can collect implicit feedback that are not ratings or scores provided by the user, such as clicks and participated activities. Thereafter, a hybrid recommender system can be implemented.\n",
    "- The data is still somewhat limited for a recommender system and future work can continue to collect more information from users to improve recommendations.\n",
    "- The NLP Hugging Face model is only used for category labelling. It would be interesting to create weights with the results and see whether positive, negative, or neutral emotions would influence the results. \n",
    "\n",
    "As for streamlit deployment,\n",
    "- It is best viewed on desktop due to the layout, which may not be convenient for most users. One possible solution would be to deploy this on a mobile app for easy access. \n",
    "- The radio button may not be the most intuitive for users to rate. Afterwhich, I would like to create a swipe function such that users can swipe the photo either right (like) or left (dislike) to indicate their preferences. Having a bigger button would suffice as well. These steps would allow smoother and more instantaneous response.\n",
    "- The filter on the sidebar is still a work in progress and future work can improve the future to ensure that when users click on the fliter, the filtered activities will follow suit.\n",
    "- Currently, there is only 1 emotion label that is being shown. It may be useful to incoporate more than 1. Moreover, future work can use different huggingface models to explore other labels. \n",
    "- Only 1 photo is being displayed and this photo may not be the most accurate. As such, it would be interesting to explore more photos or even short videos/reels in future. \n",
    "- There are only 6 recommendations and would be good to include an option for people to view more recommendations and rate whether or not they like the activity."
   ]
  }
 ],
 "metadata": {
  "kernelspec": {
   "display_name": "Python 3 (ipykernel)",
   "language": "python",
   "name": "python3"
  },
  "language_info": {
   "codemirror_mode": {
    "name": "ipython",
    "version": 3
   },
   "file_extension": ".py",
   "mimetype": "text/x-python",
   "name": "python",
   "nbconvert_exporter": "python",
   "pygments_lexer": "ipython3",
   "version": "3.8.13"
  }
 },
 "nbformat": 4,
 "nbformat_minor": 5
}
